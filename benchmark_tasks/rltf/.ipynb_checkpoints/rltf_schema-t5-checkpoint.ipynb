{
 "cells": [
  {
   "cell_type": "code",
   "execution_count": 2,
   "id": "2acb19ce-a28d-44cc-b982-417d3d0366c5",
   "metadata": {
    "pycharm": {
     "is_executing": true
    }
   },
   "outputs": [],
   "source": [
    "from torch.utils.data import DataLoader\n",
    "import torch\n",
    "from transformers import (\n",
    "    T5Tokenizer,\n",
    "    T5ForConditionalGeneration,\n",
    ")\n",
    "import os\n",
    "os.chdir('../')\n",
    "from generate_model_seq import SeqGen\n",
    "import torch.optim as optim\n",
    "from general_dataset import GeneralDataset\n",
    "from agi_utils import *\n",
    "from combine_model_seq import SeqCombine"
   ]
  },
  {
   "cell_type": "code",
   "execution_count": 3,
   "id": "38ffc46b-5ba2-462f-9c9f-a7eaa379cc8f",
   "metadata": {},
   "outputs": [],
   "source": [
    "import argparse\n",
    "\n",
    "parser = argparse.ArgumentParser()\n",
    "parser.add_argument(\"--seed\", type=int, default=42)\n",
    "parser.add_argument(\"--model_name\", type=str, default=\"google/flan-t5-large\")\n",
    "parser.add_argument(\"--epochs\", type=int, default=10)\n",
    "parser.add_argument(\"--batch_size\", type=int, default=5)\n",
    "parser.add_argument(\"--num_seq\", type=int, default=1)\n",
    "parser.add_argument(\"--learning_rate\", type=float, default=1e-5)\n",
    "parser.add_argument(\"--epsilon\", type=float, default=0.2)\n",
    "parser.add_argument(\"--decay_rate\", type=float, default=0.9)\n",
    "parser.add_argument(\"--weight_decay\", type=float, default=1e-6)\n",
    "parser.add_argument(\"--accumulate_steps\", type=int, default=1)\n",
    "parser.add_argument(\"--warm_up_proportion\", type=float, default=0.1)\n",
    "\n",
    "args = parser.parse_args(\"\")"
   ]
  },
  {
   "cell_type": "code",
   "execution_count": 17,
   "id": "d0a1e17d-2c29-4671-838a-d2f5185b1e3a",
   "metadata": {},
   "outputs": [],
   "source": [
    "\"\"\"\n",
    "load training and test datasets\n",
    "\"\"\"\n",
    "data_path = \"YOUR_DATA_PATH\"\n",
    "\n",
    "task_discriptions = txt_loader(\"./task_description.txt\")\n",
    "training_task_idx = [7,20,30,40,50,60]\n",
    "test_task_idx = [2,3,10,15,20,35,45,55,65,70,70,90,106,107]\n",
    "training_dataloaders = []\n",
    "test_dataloaders = []\n",
    "\n",
    "for i in training_task_idx:\n",
    "    dataset = GeneralDataset(i, data_path)\n",
    "    dataloader = DataLoader(dataset, batch_size=args.batch_size)\n",
    "    training_dataloaders.append(dataloader)\n",
    "    \n",
    "for j in test_task_idx:\n",
    "    dataset = GeneralDataset(j,data_path)\n",
    "    dataloader = DataLoader(dataset, batch_size=args.batch_size)\n",
    "    test_dataloaders.append(dataloader)\n",
    "    \n",
    "training_tasks = [task_discriptions[i].strip() for i in training_task_idx]\n",
    "test_tasks = [task_discriptions[j].strip() for j in test_task_idx]\n",
    "# print(training_tasks)"
   ]
  },
  {
   "cell_type": "code",
   "execution_count": 9,
   "id": "56f1b382-21d1-4441-bf48-c9467e5d7b6e",
   "metadata": {},
   "outputs": [
    {
     "name": "stderr",
     "output_type": "stream",
     "text": [
      "Some weights of the model checkpoint at nateraw/vit-base-beans were not used when initializing ViTModel: ['classifier.weight', 'classifier.bias']\n",
      "- This IS expected if you are initializing ViTModel from the checkpoint of a model trained on another task or with another architecture (e.g. initializing a BertForSequenceClassification model from a BertForPreTraining model).\n",
      "- This IS NOT expected if you are initializing ViTModel from the checkpoint of a model that you expect to be exactly identical (initializing a BertForSequenceClassification model from a BertForSequenceClassification model).\n",
      "Some weights of ViTModel were not initialized from the model checkpoint at nateraw/vit-base-beans and are newly initialized: ['vit.pooler.dense.bias', 'vit.pooler.dense.weight']\n",
      "You should probably TRAIN this model on a down-stream task to be able to use it for predictions and inference.\n"
     ]
    },
    {
     "data": {
      "application/vnd.jupyter.widget-view+json": {
       "model_id": "e727397918d44f539165f191ac18faf3",
       "version_major": 2,
       "version_minor": 0
      },
      "text/plain": [
       "Fetching 16 files:   0%|          | 0/16 [00:00<?, ?it/s]"
      ]
     },
     "metadata": {},
     "output_type": "display_data"
    },
    {
     "name": "stderr",
     "output_type": "stream",
     "text": [
      "The config attributes {'scaling_factor': 0.18215} were passed to AutoencoderKL, but are not expected and will be ignored. Please verify your config.json configuration file.\n"
     ]
    }
   ],
   "source": [
    "import numpy as np\n",
    "from IPython.utils import io\n",
    "import random\n",
    "from tqdm import tqdm\n",
    "from evaluate import load\n",
    "from torchvision import transforms\n",
    "from transformers import AutoModel, AutoFeatureExtractor\n",
    "from torchmetrics.multimodal import CLIPScore\n",
    "\n",
    "clip_score = CLIPScore(model_name_or_path=\"openai/clip-vit-base-patch16\")\n",
    "\n",
    "\n",
    "# Load a pre-trained Vision Transformer model and its feature extractor\n",
    "vit_ckpt = \"nateraw/vit-base-beans\"\n",
    "vit = AutoModel.from_pretrained(vit_ckpt)\n",
    "vit.eval()\n",
    "vit_extractor = AutoFeatureExtractor.from_pretrained(vit_ckpt)\n",
    "\n",
    "f = transforms.ToPILImage()\n",
    "bertscore = load(\"bertscore\")\n",
    "\n",
    "device_list = [\"cuda:3\",\"cpu\"]\n",
    "seqCombination = SeqCombine(device_list)"
   ]
  },
  {
   "cell_type": "code",
   "execution_count": 11,
   "id": "ebc460e2-5ad8-44c9-9983-4fa33174c319",
   "metadata": {},
   "outputs": [],
   "source": [
    "from undecorated import undecorated\n",
    "from finetune.utils import construct_optimizer\n",
    "from types import MethodType\n",
    "\n",
    "device = 'cpu'\n",
    "\n",
    "tokenizer = T5Tokenizer.from_pretrained(args.model_name)\n",
    "backbone_model = T5ForConditionalGeneration.from_pretrained(args.model_name).to(device)\n",
    "backbone_model.load_state_dict(torch.load(\"./finetune/10_shot_finetuned.pt\", map_location=\"cpu\"))\n",
    "backbone_model = backbone_model.to(device)\n",
    "\n",
    "seqGen = SeqGen(backbone_model, tokenizer, device)\n",
    "\n",
    "generate_with_grad = undecorated(seqGen.model.generate)\n",
    "seqGen.model.generate_with_grad = MethodType(generate_with_grad, seqGen.model)\n",
    "# optimizer = optim.SGD(seqGen.model.parameters(), lr=0.0001, momentum=0.9)\n",
    "optimizer, scheduler = construct_optimizer(args, seqGen.model, 20)"
   ]
  },
  {
   "cell_type": "markdown",
   "id": "ea5a7420-e9c3-46ba-8e8c-8bb30ddc2495",
   "metadata": {},
   "source": [
    "### Training"
   ]
  },
  {
   "cell_type": "code",
   "execution_count": 12,
   "id": "598a08a8-7032-4e24-9e95-24bde7904e54",
   "metadata": {},
   "outputs": [
    {
     "name": "stdout",
     "output_type": "stream",
     "text": [
      "num of epoch 1\n",
      "Given grayscale image, how to return the regular image step by step?\n",
      "Module Sequence: Image Denoising\n"
     ]
    },
    {
     "name": "stderr",
     "output_type": "stream",
     "text": [
      "100%|███████████████████████████████████████████| 20/20 [00:22<00:00,  1.12s/it]\n"
     ]
    },
    {
     "name": "stdout",
     "output_type": "stream",
     "text": [
      "Average reward on current task: 0.7552987575531006\n",
      "Average reward: 0.7552987575531006\n",
      "Loss: 0.42208486795425415\n",
      "Given low-resolutioned noisy blurry grayscale image, how to return the object names in English step by step?\n",
      "Type not match.\n",
      "Averaged reward on current task: -1\n",
      "Average reward: -0.1223506212234497\n",
      "Loss: -0.318587988615036\n",
      "Given low-resolutioned blurry grayscale image, how to return the caption in English step by step?\n",
      "Module Sequence: Image Deblurring, Colorization, Image Captioning, Machine Translation\n"
     ]
    },
    {
     "name": "stderr",
     "output_type": "stream",
     "text": [
      " 85%|████████████████████████████████████▌      | 17/20 [00:46<00:04,  1.64s/it]Warning: Empty reference sentence detected; setting raw BERTScores to 0.\n",
      "100%|███████████████████████████████████████████| 20/20 [00:51<00:00,  2.56s/it]\n"
     ]
    },
    {
     "name": "stdout",
     "output_type": "stream",
     "text": [
      "Average reward on current task: 0.5220931270718575\n",
      "Average reward: 0.0924639615416527\n",
      "Loss: 0.07375849038362503\n",
      "Given low-resolutioned noisy grayscale image, how to return the class label in German step by step?\n",
      "Type not match.\n",
      "Averaged reward on current task: -1\n",
      "Average reward: -0.18065202884376047\n",
      "Loss: -0.17308112978935242\n",
      "Given noisy grayscale image, how to return the object names in English step by step?\n",
      "Type not match.\n",
      "Averaged reward on current task: -1\n",
      "Average reward: -0.3445216230750084\n",
      "Loss: -0.19700469076633453\n",
      "Given grayscale image, how to return the caption in English step by step?\n",
      "Type not match.\n",
      "Averaged reward on current task: -1\n",
      "Average reward: -0.4537680192291737\n",
      "Loss: -0.15819662809371948\n",
      "num of epoch 2\n",
      "Given grayscale image, how to return the regular image step by step?\n",
      "Module Sequence: Image Denoising\n"
     ]
    },
    {
     "name": "stderr",
     "output_type": "stream",
     "text": [
      "100%|███████████████████████████████████████████| 20/20 [00:19<00:00,  1.01it/s]\n"
     ]
    },
    {
     "name": "stdout",
     "output_type": "stream",
     "text": [
      "Average reward on current task: 0.7552987575531006\n",
      "Average reward: 0.7552987575531006\n",
      "Loss: 0.0759681910276413\n",
      "Given low-resolutioned noisy blurry grayscale image, how to return the object names in English step by step?\n",
      "Module Sequence: Image Deblurring, Object Detection, Machine Translation\n"
     ]
    },
    {
     "name": "stderr",
     "output_type": "stream",
     "text": [
      "100%|███████████████████████████████████████████| 20/20 [00:25<00:00,  1.27s/it]\n"
     ]
    },
    {
     "name": "stdout",
     "output_type": "stream",
     "text": [
      "Average reward on current task: 0.4525067138671875\n",
      "Average reward: 0.6039027357101441\n",
      "Loss: 2.6616015434265137\n",
      "Given low-resolutioned blurry grayscale image, how to return the caption in English step by step?\n",
      "Type not match.\n",
      "Averaged reward on current task: -1\n",
      "Average reward: 0.06926849047342938\n",
      "Loss: 0.016598308458924294\n",
      "Given low-resolutioned noisy grayscale image, how to return the class label in German step by step?\n",
      "Type not match.\n",
      "Averaged reward on current task: -1\n",
      "Average reward: -0.19804863214492796\n",
      "Loss: -0.15320703387260437\n",
      "Given noisy grayscale image, how to return the object names in English step by step?\n",
      "Type not match.\n",
      "Averaged reward on current task: -1\n",
      "Average reward: -0.3584389057159424\n",
      "Loss: -0.3756587505340576\n",
      "Given grayscale image, how to return the caption in English step by step?\n",
      "Module Sequence: Image Captioning\n"
     ]
    },
    {
     "name": "stderr",
     "output_type": "stream",
     "text": [
      " 85%|████████████████████████████████████▌      | 17/20 [00:08<00:01,  2.08it/s]Warning: Empty reference sentence detected; setting raw BERTScores to 0.\n",
      "100%|███████████████████████████████████████████| 20/20 [00:09<00:00,  2.05it/s]\n"
     ]
    },
    {
     "name": "stdout",
     "output_type": "stream",
     "text": [
      "Average reward on current task: 0.7472007423639299\n",
      "Average reward: -0.1741656310359637\n",
      "Loss: -0.10421266406774521\n",
      "num of epoch 3\n",
      "Given grayscale image, how to return the regular image step by step?\n",
      "Module Sequence: Image Denoising\n"
     ]
    },
    {
     "name": "stderr",
     "output_type": "stream",
     "text": [
      "100%|███████████████████████████████████████████| 20/20 [00:21<00:00,  1.06s/it]\n"
     ]
    },
    {
     "name": "stdout",
     "output_type": "stream",
     "text": [
      "Average reward on current task: 0.7552987575531006\n",
      "Average reward: 0.7552987575531006\n",
      "Loss: 0.022511431947350502\n",
      "Given low-resolutioned noisy blurry grayscale image, how to return the object names in English step by step?\n",
      "Type not match.\n",
      "Averaged reward on current task: -1\n",
      "Average reward: -0.1223506212234497\n",
      "Loss: -0.032507020980119705\n",
      "Given low-resolutioned blurry grayscale image, how to return the caption in English step by step?\n",
      "Type not match.\n",
      "Averaged reward on current task: -1\n",
      "Average reward: -0.4149004141489665\n",
      "Loss: -0.0548413060605526\n",
      "Given low-resolutioned noisy grayscale image, how to return the class label in German step by step?\n",
      "Module Sequence: Image Classification\n"
     ]
    },
    {
     "name": "stderr",
     "output_type": "stream",
     "text": [
      "100%|███████████████████████████████████████████| 20/20 [00:04<00:00,  4.71it/s]\n"
     ]
    },
    {
     "name": "stdout",
     "output_type": "stream",
     "text": [
      "Average reward on current task: 0.6491858996450901\n",
      "Average reward: -0.14887883570045235\n",
      "Loss: -0.09420302510261536\n",
      "Given noisy grayscale image, how to return the object names in English step by step?\n",
      "Module Sequence: Image Deblurring, Object Detection\n"
     ]
    },
    {
     "name": "stderr",
     "output_type": "stream",
     "text": [
      "  5%|██▏                                         | 1/20 [00:01<00:31,  1.65s/it]Warning: Empty candidate sentence detected; setting raw BERTscores to 0.\n",
      " 10%|████▍                                       | 2/20 [00:02<00:22,  1.25s/it]Warning: Empty candidate sentence detected; setting raw BERTscores to 0.\n",
      " 20%|████████▊                                   | 4/20 [00:04<00:16,  1.04s/it]Warning: Empty candidate sentence detected; setting raw BERTscores to 0.\n",
      " 25%|███████████                                 | 5/20 [00:05<00:16,  1.09s/it]Warning: Empty candidate sentence detected; setting raw BERTscores to 0.\n",
      " 30%|█████████████▏                              | 6/20 [00:06<00:14,  1.06s/it]Warning: Empty candidate sentence detected; setting raw BERTscores to 0.\n",
      " 35%|███████████████▍                            | 7/20 [00:07<00:13,  1.03s/it]Warning: Empty candidate sentence detected; setting raw BERTscores to 0.\n",
      " 55%|███████████████████████▋                   | 11/20 [00:11<00:09,  1.04s/it]Warning: Empty candidate sentence detected; setting raw BERTscores to 0.\n",
      " 60%|█████████████████████████▊                 | 12/20 [00:12<00:08,  1.00s/it]Warning: Empty candidate sentence detected; setting raw BERTscores to 0.\n",
      " 65%|███████████████████████████▉               | 13/20 [00:13<00:06,  1.02it/s]Warning: Empty candidate sentence detected; setting raw BERTscores to 0.\n",
      " 70%|██████████████████████████████             | 14/20 [00:14<00:06,  1.05s/it]Warning: Empty candidate sentence detected; setting raw BERTscores to 0.\n",
      " 80%|██████████████████████████████████▍        | 16/20 [00:16<00:03,  1.00it/s]Warning: Empty candidate sentence detected; setting raw BERTscores to 0.\n",
      " 85%|████████████████████████████████████▌      | 17/20 [00:17<00:02,  1.03it/s]Warning: Empty candidate sentence detected; setting raw BERTscores to 0.\n",
      " 90%|██████████████████████████████████████▋    | 18/20 [00:18<00:02,  1.03s/it]Warning: Empty candidate sentence detected; setting raw BERTscores to 0.\n",
      " 95%|████████████████████████████████████████▊  | 19/20 [00:19<00:01,  1.02s/it]Warning: Empty candidate sentence detected; setting raw BERTscores to 0.\n",
      "100%|███████████████████████████████████████████| 20/20 [00:20<00:00,  1.05s/it]\n"
     ]
    },
    {
     "name": "stdout",
     "output_type": "stream",
     "text": [
      "Average reward on current task: 0.4922473135590553\n",
      "Average reward: -0.020653605848550815\n",
      "Loss: -0.014669551514089108\n",
      "Given grayscale image, how to return the caption in English step by step?\n",
      "Type not match.\n",
      "Averaged reward on current task: -1\n",
      "Average reward: -0.18387800487379236\n",
      "Loss: -0.18939577043056488\n",
      "num of epoch 4\n",
      "Given grayscale image, how to return the regular image step by step?\n",
      "Module Sequence: Image Denoising\n"
     ]
    },
    {
     "name": "stderr",
     "output_type": "stream",
     "text": [
      "100%|███████████████████████████████████████████| 20/20 [00:20<00:00,  1.04s/it]\n"
     ]
    },
    {
     "name": "stdout",
     "output_type": "stream",
     "text": [
      "Average reward on current task: 0.7552987575531006\n",
      "Average reward: 0.7552987575531006\n",
      "Loss: 0.015929579734802246\n",
      "Given low-resolutioned noisy blurry grayscale image, how to return the object names in English step by step?\n",
      "Type not match.\n",
      "Averaged reward on current task: -1\n",
      "Average reward: -0.1223506212234497\n",
      "Loss: -0.02616194263100624\n",
      "Given low-resolutioned blurry grayscale image, how to return the caption in English step by step?\n",
      "Type not match.\n",
      "Averaged reward on current task: -1\n",
      "Average reward: -0.4149004141489665\n",
      "Loss: -0.08108014613389969\n",
      "Given low-resolutioned noisy grayscale image, how to return the class label in German step by step?\n",
      "Module Sequence: Image Classification\n"
     ]
    },
    {
     "name": "stderr",
     "output_type": "stream",
     "text": [
      "100%|███████████████████████████████████████████| 20/20 [00:04<00:00,  4.70it/s]\n"
     ]
    },
    {
     "name": "stdout",
     "output_type": "stream",
     "text": [
      "Average reward on current task: 0.6491858996450901\n",
      "Average reward: -0.14887883570045235\n",
      "Loss: -0.1413099467754364\n",
      "Given noisy grayscale image, how to return the object names in English step by step?\n",
      "Module Sequence: Image Deblurring, Object Detection\n"
     ]
    },
    {
     "name": "stderr",
     "output_type": "stream",
     "text": [
      "  5%|██▏                                         | 1/20 [00:01<00:33,  1.74s/it]Warning: Empty candidate sentence detected; setting raw BERTscores to 0.\n",
      " 10%|████▍                                       | 2/20 [00:02<00:23,  1.28s/it]Warning: Empty candidate sentence detected; setting raw BERTscores to 0.\n",
      " 20%|████████▊                                   | 4/20 [00:04<00:17,  1.08s/it]Warning: Empty candidate sentence detected; setting raw BERTscores to 0.\n",
      " 25%|███████████                                 | 5/20 [00:05<00:16,  1.13s/it]Warning: Empty candidate sentence detected; setting raw BERTscores to 0.\n",
      " 30%|█████████████▏                              | 6/20 [00:06<00:15,  1.08s/it]Warning: Empty candidate sentence detected; setting raw BERTscores to 0.\n",
      " 35%|███████████████▍                            | 7/20 [00:08<00:14,  1.13s/it]Warning: Empty candidate sentence detected; setting raw BERTscores to 0.\n",
      " 55%|███████████████████████▋                   | 11/20 [00:12<00:09,  1.03s/it]Warning: Empty candidate sentence detected; setting raw BERTscores to 0.\n",
      " 60%|█████████████████████████▊                 | 12/20 [00:13<00:08,  1.00s/it]Warning: Empty candidate sentence detected; setting raw BERTscores to 0.\n",
      " 65%|███████████████████████████▉               | 13/20 [00:14<00:07,  1.05s/it]Warning: Empty candidate sentence detected; setting raw BERTscores to 0.\n",
      " 70%|██████████████████████████████             | 14/20 [00:15<00:06,  1.02s/it]Warning: Empty candidate sentence detected; setting raw BERTscores to 0.\n",
      " 80%|██████████████████████████████████▍        | 16/20 [00:17<00:03,  1.02it/s]Warning: Empty candidate sentence detected; setting raw BERTscores to 0.\n",
      " 85%|████████████████████████████████████▌      | 17/20 [00:18<00:02,  1.03it/s]Warning: Empty candidate sentence detected; setting raw BERTscores to 0.\n",
      " 90%|██████████████████████████████████████▋    | 18/20 [00:19<00:02,  1.05s/it]Warning: Empty candidate sentence detected; setting raw BERTscores to 0.\n",
      " 95%|████████████████████████████████████████▊  | 19/20 [00:20<00:01,  1.03s/it]Warning: Empty candidate sentence detected; setting raw BERTscores to 0.\n",
      "100%|███████████████████████████████████████████| 20/20 [00:21<00:00,  1.06s/it]\n"
     ]
    },
    {
     "name": "stdout",
     "output_type": "stream",
     "text": [
      "Average reward on current task: 0.4922473135590553\n",
      "Average reward: -0.020653605848550815\n",
      "Loss: -0.016042789444327354\n",
      "Given grayscale image, how to return the caption in English step by step?\n",
      "Module Sequence: Image Captioning\n"
     ]
    },
    {
     "name": "stderr",
     "output_type": "stream",
     "text": [
      " 85%|████████████████████████████████████▌      | 17/20 [00:09<00:01,  1.99it/s]Warning: Empty reference sentence detected; setting raw BERTScores to 0.\n",
      "100%|███████████████████████████████████████████| 20/20 [00:10<00:00,  1.84it/s]\n"
     ]
    },
    {
     "name": "stdout",
     "output_type": "stream",
     "text": [
      "Average reward on current task: 0.7472007423639299\n",
      "Average reward: 0.10732211885352931\n",
      "Loss: 0.0799020454287529\n",
      "num of epoch 5\n",
      "Given grayscale image, how to return the regular image step by step?\n",
      "Module Sequence: Image Denoising\n"
     ]
    },
    {
     "name": "stderr",
     "output_type": "stream",
     "text": [
      "100%|███████████████████████████████████████████| 20/20 [00:21<00:00,  1.07s/it]\n"
     ]
    },
    {
     "name": "stdout",
     "output_type": "stream",
     "text": [
      "Average reward on current task: 0.7552987575531006\n",
      "Average reward: 0.7552987575531006\n",
      "Loss: 0.013653181493282318\n",
      "Given low-resolutioned noisy blurry grayscale image, how to return the object names in English step by step?\n",
      "Type not match.\n",
      "Averaged reward on current task: -1\n",
      "Average reward: -0.1223506212234497\n",
      "Loss: -0.03281329199671745\n",
      "Given low-resolutioned blurry grayscale image, how to return the caption in English step by step?\n",
      "Type not match.\n",
      "Averaged reward on current task: -1\n",
      "Average reward: -0.4149004141489665\n",
      "Loss: -0.2121475487947464\n",
      "Given low-resolutioned noisy grayscale image, how to return the class label in German step by step?\n",
      "Module Sequence: Object Detection\n"
     ]
    },
    {
     "name": "stderr",
     "output_type": "stream",
     "text": [
      "  0%|                                                    | 0/20 [00:00<?, ?it/s]Warning: Empty candidate sentence detected; setting raw BERTscores to 0.\n",
      "  5%|██▏                                         | 1/20 [00:00<00:09,  2.01it/s]Warning: Empty candidate sentence detected; setting raw BERTscores to 0.\n",
      " 10%|████▍                                       | 2/20 [00:00<00:08,  2.20it/s]Warning: Empty candidate sentence detected; setting raw BERTscores to 0.\n",
      " 15%|██████▌                                     | 3/20 [00:01<00:07,  2.29it/s]Warning: Empty candidate sentence detected; setting raw BERTscores to 0.\n",
      " 20%|████████▊                                   | 4/20 [00:01<00:07,  2.27it/s]Warning: Empty candidate sentence detected; setting raw BERTscores to 0.\n",
      " 25%|███████████                                 | 5/20 [00:02<00:06,  2.28it/s]Warning: Empty candidate sentence detected; setting raw BERTscores to 0.\n",
      " 30%|█████████████▏                              | 6/20 [00:02<00:06,  2.27it/s]Warning: Empty candidate sentence detected; setting raw BERTscores to 0.\n",
      " 35%|███████████████▍                            | 7/20 [00:03<00:05,  2.18it/s]Warning: Empty candidate sentence detected; setting raw BERTscores to 0.\n",
      " 40%|█████████████████▌                          | 8/20 [00:03<00:05,  2.05it/s]Warning: Empty candidate sentence detected; setting raw BERTscores to 0.\n",
      " 45%|███████████████████▊                        | 9/20 [00:04<00:05,  2.11it/s]Warning: Empty candidate sentence detected; setting raw BERTscores to 0.\n",
      " 50%|█████████████████████▌                     | 10/20 [00:04<00:04,  2.17it/s]Warning: Empty candidate sentence detected; setting raw BERTscores to 0.\n",
      " 60%|█████████████████████████▊                 | 12/20 [00:05<00:03,  2.24it/s]Warning: Empty candidate sentence detected; setting raw BERTscores to 0.\n",
      " 65%|███████████████████████████▉               | 13/20 [00:05<00:03,  2.29it/s]Warning: Empty candidate sentence detected; setting raw BERTscores to 0.\n",
      " 70%|██████████████████████████████             | 14/20 [00:06<00:02,  2.32it/s]Warning: Empty candidate sentence detected; setting raw BERTscores to 0.\n",
      " 75%|████████████████████████████████▎          | 15/20 [00:06<00:02,  2.31it/s]Warning: Empty candidate sentence detected; setting raw BERTscores to 0.\n",
      " 80%|██████████████████████████████████▍        | 16/20 [00:07<00:01,  2.36it/s]Warning: Empty candidate sentence detected; setting raw BERTscores to 0.\n",
      " 85%|████████████████████████████████████▌      | 17/20 [00:07<00:01,  2.37it/s]Warning: Empty candidate sentence detected; setting raw BERTscores to 0.\n",
      " 90%|██████████████████████████████████████▋    | 18/20 [00:07<00:00,  2.33it/s]Warning: Empty candidate sentence detected; setting raw BERTscores to 0.\n",
      " 95%|████████████████████████████████████████▊  | 19/20 [00:08<00:00,  2.32it/s]Warning: Empty candidate sentence detected; setting raw BERTscores to 0.\n",
      "100%|███████████████████████████████████████████| 20/20 [00:08<00:00,  2.26it/s]\n"
     ]
    },
    {
     "name": "stdout",
     "output_type": "stream",
     "text": [
      "Average reward on current task: 0.2525896982848644\n",
      "Average reward: -0.2480278860405088\n",
      "Loss: -0.18281228840351105\n",
      "Given noisy grayscale image, how to return the object names in English step by step?\n",
      "Module Sequence: Image Deblurring, Object Detection\n"
     ]
    },
    {
     "name": "stderr",
     "output_type": "stream",
     "text": [
      "  5%|██▏                                         | 1/20 [00:01<00:19,  1.01s/it]Warning: Empty candidate sentence detected; setting raw BERTscores to 0.\n",
      " 10%|████▍                                       | 2/20 [00:01<00:17,  1.02it/s]Warning: Empty candidate sentence detected; setting raw BERTscores to 0.\n",
      " 20%|████████▊                                   | 4/20 [00:04<00:20,  1.26s/it]Warning: Empty candidate sentence detected; setting raw BERTscores to 0.\n",
      " 25%|███████████                                 | 5/20 [00:05<00:17,  1.16s/it]Warning: Empty candidate sentence detected; setting raw BERTscores to 0.\n",
      " 30%|█████████████▏                              | 6/20 [00:06<00:15,  1.09s/it]Warning: Empty candidate sentence detected; setting raw BERTscores to 0.\n",
      " 35%|███████████████▍                            | 7/20 [00:07<00:13,  1.06s/it]Warning: Empty candidate sentence detected; setting raw BERTscores to 0.\n",
      " 55%|███████████████████████▋                   | 11/20 [00:12<00:09,  1.08s/it]Warning: Empty candidate sentence detected; setting raw BERTscores to 0.\n",
      " 60%|█████████████████████████▊                 | 12/20 [00:13<00:09,  1.18s/it]Warning: Empty candidate sentence detected; setting raw BERTscores to 0.\n",
      " 65%|███████████████████████████▉               | 13/20 [00:14<00:07,  1.11s/it]Warning: Empty candidate sentence detected; setting raw BERTscores to 0.\n",
      " 70%|██████████████████████████████             | 14/20 [00:15<00:06,  1.06s/it]Warning: Empty candidate sentence detected; setting raw BERTscores to 0.\n",
      " 80%|██████████████████████████████████▍        | 16/20 [00:17<00:04,  1.08s/it]Warning: Empty candidate sentence detected; setting raw BERTscores to 0.\n",
      " 85%|████████████████████████████████████▌      | 17/20 [00:18<00:03,  1.03s/it]Warning: Empty candidate sentence detected; setting raw BERTscores to 0.\n",
      " 90%|██████████████████████████████████████▋    | 18/20 [00:19<00:02,  1.01s/it]Warning: Empty candidate sentence detected; setting raw BERTscores to 0.\n",
      " 95%|████████████████████████████████████████▊  | 19/20 [00:20<00:01,  1.00s/it]Warning: Empty candidate sentence detected; setting raw BERTscores to 0.\n",
      "100%|███████████████████████████████████████████| 20/20 [00:21<00:00,  1.08s/it]\n"
     ]
    },
    {
     "name": "stdout",
     "output_type": "stream",
     "text": [
      "Average reward on current task: 0.4922473135590553\n",
      "Average reward: -0.09997284612059597\n",
      "Loss: -0.08918529003858566\n",
      "Given grayscale image, how to return the caption in English step by step?\n",
      "Module Sequence: Image Captioning\n"
     ]
    },
    {
     "name": "stderr",
     "output_type": "stream",
     "text": [
      " 85%|████████████████████████████████████▌      | 17/20 [00:08<00:01,  1.89it/s]Warning: Empty reference sentence detected; setting raw BERTScores to 0.\n",
      "100%|███████████████████████████████████████████| 20/20 [00:09<00:00,  2.02it/s]\n"
     ]
    },
    {
     "name": "stdout",
     "output_type": "stream",
     "text": [
      "Average reward on current task: 0.7472007423639299\n",
      "Average reward: 0.04122275196015834\n",
      "Loss: 0.011298013851046562\n",
      "num of epoch 6\n",
      "Given grayscale image, how to return the regular image step by step?\n",
      "Module Sequence: Image Denoising\n"
     ]
    },
    {
     "name": "stderr",
     "output_type": "stream",
     "text": [
      "100%|███████████████████████████████████████████| 20/20 [00:20<00:00,  1.04s/it]\n"
     ]
    },
    {
     "name": "stdout",
     "output_type": "stream",
     "text": [
      "Average reward on current task: 0.7552987575531006\n",
      "Average reward: 0.7552987575531006\n",
      "Loss: 0.012700541876256466\n",
      "Given low-resolutioned noisy blurry grayscale image, how to return the object names in English step by step?\n",
      "Type not match.\n",
      "Averaged reward on current task: -1\n",
      "Average reward: -0.1223506212234497\n",
      "Loss: -0.04361914470791817\n",
      "Given low-resolutioned blurry grayscale image, how to return the caption in English step by step?\n",
      "Module Sequence: Image Captioning\n"
     ]
    },
    {
     "name": "stderr",
     "output_type": "stream",
     "text": [
      " 85%|████████████████████████████████████▌      | 17/20 [00:07<00:01,  2.19it/s]Warning: Empty reference sentence detected; setting raw BERTScores to 0.\n",
      "100%|███████████████████████████████████████████| 20/20 [00:09<00:00,  2.16it/s]\n"
     ]
    },
    {
     "name": "stdout",
     "output_type": "stream",
     "text": [
      "Average reward on current task: 0.7427397590875626\n",
      "Average reward: 0.1660128388802211\n",
      "Loss: 0.08189903199672699\n",
      "Given low-resolutioned noisy grayscale image, how to return the class label in German step by step?\n",
      "Module Sequence: Object Detection\n"
     ]
    },
    {
     "name": "stderr",
     "output_type": "stream",
     "text": [
      "  0%|                                                    | 0/20 [00:00<?, ?it/s]Warning: Empty candidate sentence detected; setting raw BERTscores to 0.\n",
      "  5%|██▏                                         | 1/20 [00:00<00:08,  2.23it/s]Warning: Empty candidate sentence detected; setting raw BERTscores to 0.\n",
      " 10%|████▍                                       | 2/20 [00:00<00:07,  2.33it/s]Warning: Empty candidate sentence detected; setting raw BERTscores to 0.\n",
      " 15%|██████▌                                     | 3/20 [00:02<00:15,  1.08it/s]Warning: Empty candidate sentence detected; setting raw BERTscores to 0.\n",
      " 20%|████████▊                                   | 4/20 [00:02<00:11,  1.36it/s]Warning: Empty candidate sentence detected; setting raw BERTscores to 0.\n",
      " 25%|███████████                                 | 5/20 [00:03<00:09,  1.61it/s]Warning: Empty candidate sentence detected; setting raw BERTscores to 0.\n",
      " 30%|█████████████▏                              | 6/20 [00:03<00:07,  1.77it/s]Warning: Empty candidate sentence detected; setting raw BERTscores to 0.\n",
      " 35%|███████████████▍                            | 7/20 [00:04<00:06,  1.90it/s]Warning: Empty candidate sentence detected; setting raw BERTscores to 0.\n",
      " 40%|█████████████████▌                          | 8/20 [00:04<00:05,  2.01it/s]Warning: Empty candidate sentence detected; setting raw BERTscores to 0.\n",
      " 45%|███████████████████▊                        | 9/20 [00:04<00:05,  2.13it/s]Warning: Empty candidate sentence detected; setting raw BERTscores to 0.\n",
      " 50%|█████████████████████▌                     | 10/20 [00:05<00:04,  2.17it/s]Warning: Empty candidate sentence detected; setting raw BERTscores to 0.\n",
      " 60%|█████████████████████████▊                 | 12/20 [00:06<00:03,  2.10it/s]Warning: Empty candidate sentence detected; setting raw BERTscores to 0.\n",
      " 65%|███████████████████████████▉               | 13/20 [00:06<00:03,  2.03it/s]Warning: Empty candidate sentence detected; setting raw BERTscores to 0.\n",
      " 70%|██████████████████████████████             | 14/20 [00:07<00:02,  2.13it/s]Warning: Empty candidate sentence detected; setting raw BERTscores to 0.\n",
      " 75%|████████████████████████████████▎          | 15/20 [00:07<00:02,  2.14it/s]Warning: Empty candidate sentence detected; setting raw BERTscores to 0.\n",
      " 80%|██████████████████████████████████▍        | 16/20 [00:08<00:01,  2.19it/s]Warning: Empty candidate sentence detected; setting raw BERTscores to 0.\n",
      " 85%|████████████████████████████████████▌      | 17/20 [00:08<00:01,  2.25it/s]Warning: Empty candidate sentence detected; setting raw BERTscores to 0.\n",
      " 90%|██████████████████████████████████████▋    | 18/20 [00:09<00:00,  2.30it/s]Warning: Empty candidate sentence detected; setting raw BERTscores to 0.\n",
      " 95%|████████████████████████████████████████▊  | 19/20 [00:09<00:00,  2.31it/s]Warning: Empty candidate sentence detected; setting raw BERTscores to 0.\n",
      "100%|███████████████████████████████████████████| 20/20 [00:09<00:00,  2.01it/s]\n"
     ]
    },
    {
     "name": "stdout",
     "output_type": "stream",
     "text": [
      "Average reward on current task: 0.2525896982848644\n",
      "Average reward: 0.18765705373138192\n",
      "Loss: 0.1406380981206894\n",
      "Given noisy grayscale image, how to return the object names in English step by step?\n",
      "Module Sequence: Image Deblurring, Object Detection\n"
     ]
    },
    {
     "name": "stderr",
     "output_type": "stream",
     "text": [
      "  5%|██▏                                         | 1/20 [00:01<00:19,  1.03s/it]Warning: Empty candidate sentence detected; setting raw BERTscores to 0.\n",
      " 10%|████▍                                       | 2/20 [00:01<00:17,  1.01it/s]Warning: Empty candidate sentence detected; setting raw BERTscores to 0.\n",
      " 20%|████████▊                                   | 4/20 [00:04<00:16,  1.05s/it]Warning: Empty candidate sentence detected; setting raw BERTscores to 0.\n",
      " 25%|███████████                                 | 5/20 [00:05<00:15,  1.00s/it]Warning: Empty candidate sentence detected; setting raw BERTscores to 0.\n",
      " 30%|█████████████▏                              | 6/20 [00:06<00:13,  1.01it/s]Warning: Empty candidate sentence detected; setting raw BERTscores to 0.\n",
      " 35%|███████████████▍                            | 7/20 [00:07<00:12,  1.01it/s]Warning: Empty candidate sentence detected; setting raw BERTscores to 0.\n",
      " 55%|███████████████████████▋                   | 11/20 [00:11<00:08,  1.01it/s]Warning: Empty candidate sentence detected; setting raw BERTscores to 0.\n",
      " 60%|█████████████████████████▊                 | 12/20 [00:12<00:08,  1.02s/it]Warning: Empty candidate sentence detected; setting raw BERTscores to 0.\n",
      " 65%|███████████████████████████▉               | 13/20 [00:13<00:06,  1.01it/s]Warning: Empty candidate sentence detected; setting raw BERTscores to 0.\n",
      " 70%|██████████████████████████████             | 14/20 [00:14<00:05,  1.02it/s]Warning: Empty candidate sentence detected; setting raw BERTscores to 0.\n",
      " 80%|██████████████████████████████████▍        | 16/20 [00:16<00:04,  1.05s/it]Warning: Empty candidate sentence detected; setting raw BERTscores to 0.\n",
      " 85%|████████████████████████████████████▌      | 17/20 [00:17<00:03,  1.02s/it]Warning: Empty candidate sentence detected; setting raw BERTscores to 0.\n",
      " 90%|██████████████████████████████████████▋    | 18/20 [00:18<00:01,  1.00it/s]Warning: Empty candidate sentence detected; setting raw BERTscores to 0.\n",
      " 95%|████████████████████████████████████████▊  | 19/20 [00:19<00:00,  1.01it/s]Warning: Empty candidate sentence detected; setting raw BERTscores to 0.\n",
      "100%|███████████████████████████████████████████| 20/20 [00:20<00:00,  1.02s/it]\n"
     ]
    },
    {
     "name": "stdout",
     "output_type": "stream",
     "text": [
      "Average reward on current task: 0.4922473135590553\n",
      "Average reward: 0.2485751056969166\n",
      "Loss: 0.25615283846855164\n",
      "Given grayscale image, how to return the caption in English step by step?\n",
      "Module Sequence: Image Captioning\n"
     ]
    },
    {
     "name": "stderr",
     "output_type": "stream",
     "text": [
      " 85%|████████████████████████████████████▌      | 17/20 [00:09<00:01,  1.99it/s]Warning: Empty reference sentence detected; setting raw BERTScores to 0.\n",
      "100%|███████████████████████████████████████████| 20/20 [00:10<00:00,  1.86it/s]\n"
     ]
    },
    {
     "name": "stdout",
     "output_type": "stream",
     "text": [
      "Average reward on current task: 0.7472007423639299\n",
      "Average reward: 0.3316793784747521\n",
      "Loss: 0.0672074630856514\n",
      "num of epoch 7\n",
      "Given grayscale image, how to return the regular image step by step?\n",
      "Module Sequence: Image Denoising\n"
     ]
    },
    {
     "name": "stderr",
     "output_type": "stream",
     "text": [
      "100%|███████████████████████████████████████████| 20/20 [00:20<00:00,  1.04s/it]\n"
     ]
    },
    {
     "name": "stdout",
     "output_type": "stream",
     "text": [
      "Average reward on current task: 0.7552987575531006\n",
      "Average reward: 0.7552987575531006\n",
      "Loss: 0.012115244753658772\n",
      "Given low-resolutioned noisy blurry grayscale image, how to return the object names in English step by step?\n",
      "Type not match.\n",
      "Averaged reward on current task: -1\n",
      "Average reward: -0.1223506212234497\n",
      "Loss: -0.0494220033288002\n",
      "Given low-resolutioned blurry grayscale image, how to return the caption in English step by step?\n",
      "Module Sequence: Image Captioning\n"
     ]
    },
    {
     "name": "stderr",
     "output_type": "stream",
     "text": [
      " 85%|████████████████████████████████████▌      | 17/20 [00:07<00:01,  2.06it/s]Warning: Empty reference sentence detected; setting raw BERTScores to 0.\n",
      "100%|███████████████████████████████████████████| 20/20 [00:09<00:00,  2.14it/s]\n"
     ]
    },
    {
     "name": "stdout",
     "output_type": "stream",
     "text": [
      "Average reward on current task: 0.7427397590875626\n",
      "Average reward: 0.1660128388802211\n",
      "Loss: 0.04981960728764534\n",
      "Given low-resolutioned noisy grayscale image, how to return the class label in German step by step?\n",
      "Module Sequence: Object Detection\n"
     ]
    },
    {
     "name": "stderr",
     "output_type": "stream",
     "text": [
      "  0%|                                                    | 0/20 [00:00<?, ?it/s]Warning: Empty candidate sentence detected; setting raw BERTscores to 0.\n",
      "  5%|██▏                                         | 1/20 [00:00<00:08,  2.24it/s]Warning: Empty candidate sentence detected; setting raw BERTscores to 0.\n",
      " 10%|████▍                                       | 2/20 [00:01<00:14,  1.24it/s]Warning: Empty candidate sentence detected; setting raw BERTscores to 0.\n",
      " 15%|██████▌                                     | 3/20 [00:01<00:11,  1.52it/s]Warning: Empty candidate sentence detected; setting raw BERTscores to 0.\n",
      " 20%|████████▊                                   | 4/20 [00:02<00:09,  1.74it/s]Warning: Empty candidate sentence detected; setting raw BERTscores to 0.\n",
      " 25%|███████████                                 | 5/20 [00:02<00:07,  1.92it/s]Warning: Empty candidate sentence detected; setting raw BERTscores to 0.\n",
      " 30%|█████████████▏                              | 6/20 [00:03<00:06,  2.03it/s]Warning: Empty candidate sentence detected; setting raw BERTscores to 0.\n",
      " 35%|███████████████▍                            | 7/20 [00:03<00:06,  2.13it/s]Warning: Empty candidate sentence detected; setting raw BERTscores to 0.\n",
      " 40%|█████████████████▌                          | 8/20 [00:04<00:05,  2.21it/s]Warning: Empty candidate sentence detected; setting raw BERTscores to 0.\n",
      " 45%|███████████████████▊                        | 9/20 [00:04<00:04,  2.29it/s]Warning: Empty candidate sentence detected; setting raw BERTscores to 0.\n",
      " 50%|█████████████████████▌                     | 10/20 [00:05<00:05,  1.71it/s]Warning: Empty candidate sentence detected; setting raw BERTscores to 0.\n",
      " 60%|█████████████████████████▊                 | 12/20 [00:06<00:04,  1.90it/s]Warning: Empty candidate sentence detected; setting raw BERTscores to 0.\n",
      " 65%|███████████████████████████▉               | 13/20 [00:06<00:03,  2.03it/s]Warning: Empty candidate sentence detected; setting raw BERTscores to 0.\n",
      " 70%|██████████████████████████████             | 14/20 [00:07<00:02,  2.14it/s]Warning: Empty candidate sentence detected; setting raw BERTscores to 0.\n",
      " 75%|████████████████████████████████▎          | 15/20 [00:07<00:02,  2.19it/s]Warning: Empty candidate sentence detected; setting raw BERTscores to 0.\n",
      " 80%|██████████████████████████████████▍        | 16/20 [00:08<00:01,  2.24it/s]Warning: Empty candidate sentence detected; setting raw BERTscores to 0.\n",
      " 85%|████████████████████████████████████▌      | 17/20 [00:08<00:01,  2.28it/s]Warning: Empty candidate sentence detected; setting raw BERTscores to 0.\n",
      " 90%|██████████████████████████████████████▋    | 18/20 [00:08<00:00,  2.32it/s]Warning: Empty candidate sentence detected; setting raw BERTscores to 0.\n",
      " 95%|████████████████████████████████████████▊  | 19/20 [00:09<00:00,  2.34it/s]Warning: Empty candidate sentence detected; setting raw BERTscores to 0.\n",
      "100%|███████████████████████████████████████████| 20/20 [00:09<00:00,  2.03it/s]\n"
     ]
    },
    {
     "name": "stdout",
     "output_type": "stream",
     "text": [
      "Average reward on current task: 0.2525896982848644\n",
      "Average reward: 0.18765705373138192\n",
      "Loss: 0.13459397852420807\n",
      "Given noisy grayscale image, how to return the object names in English step by step?\n",
      "Module Sequence: Image Deblurring, Object Detection\n"
     ]
    },
    {
     "name": "stderr",
     "output_type": "stream",
     "text": [
      "  5%|██▏                                         | 1/20 [00:01<00:35,  1.87s/it]Warning: Empty candidate sentence detected; setting raw BERTscores to 0.\n",
      " 10%|████▍                                       | 2/20 [00:02<00:24,  1.34s/it]Warning: Empty candidate sentence detected; setting raw BERTscores to 0.\n",
      " 20%|████████▊                                   | 4/20 [00:04<00:17,  1.08s/it]Warning: Empty candidate sentence detected; setting raw BERTscores to 0.\n",
      " 25%|███████████                                 | 5/20 [00:05<00:16,  1.11s/it]Warning: Empty candidate sentence detected; setting raw BERTscores to 0.\n",
      " 30%|█████████████▏                              | 6/20 [00:06<00:14,  1.07s/it]Warning: Empty candidate sentence detected; setting raw BERTscores to 0.\n",
      " 35%|███████████████▍                            | 7/20 [00:07<00:13,  1.03s/it]Warning: Empty candidate sentence detected; setting raw BERTscores to 0.\n",
      " 55%|███████████████████████▋                   | 11/20 [00:12<00:09,  1.05s/it]Warning: Empty candidate sentence detected; setting raw BERTscores to 0.\n",
      " 60%|█████████████████████████▊                 | 12/20 [00:13<00:08,  1.02s/it]Warning: Empty candidate sentence detected; setting raw BERTscores to 0.\n",
      " 65%|███████████████████████████▉               | 13/20 [00:14<00:07,  1.01s/it]Warning: Empty candidate sentence detected; setting raw BERTscores to 0.\n",
      " 70%|██████████████████████████████             | 14/20 [00:15<00:06,  1.04s/it]Warning: Empty candidate sentence detected; setting raw BERTscores to 0.\n",
      " 80%|██████████████████████████████████▍        | 16/20 [00:17<00:03,  1.00it/s]Warning: Empty candidate sentence detected; setting raw BERTscores to 0.\n",
      " 85%|████████████████████████████████████▌      | 17/20 [00:18<00:03,  1.05s/it]Warning: Empty candidate sentence detected; setting raw BERTscores to 0.\n",
      " 90%|██████████████████████████████████████▋    | 18/20 [00:19<00:02,  1.10s/it]Warning: Empty candidate sentence detected; setting raw BERTscores to 0.\n",
      " 95%|████████████████████████████████████████▊  | 19/20 [00:20<00:01,  1.07s/it]Warning: Empty candidate sentence detected; setting raw BERTscores to 0.\n",
      "100%|███████████████████████████████████████████| 20/20 [00:21<00:00,  1.08s/it]\n"
     ]
    },
    {
     "name": "stdout",
     "output_type": "stream",
     "text": [
      "Average reward on current task: 0.4922473135590553\n",
      "Average reward: 0.2485751056969166\n",
      "Loss: 0.25093725323677063\n",
      "Given grayscale image, how to return the caption in English step by step?\n",
      "Module Sequence: Image Captioning\n"
     ]
    },
    {
     "name": "stderr",
     "output_type": "stream",
     "text": [
      " 85%|████████████████████████████████████▌      | 17/20 [00:08<00:01,  2.00it/s]Warning: Empty reference sentence detected; setting raw BERTScores to 0.\n",
      "100%|███████████████████████████████████████████| 20/20 [00:09<00:00,  2.04it/s]\n"
     ]
    },
    {
     "name": "stdout",
     "output_type": "stream",
     "text": [
      "Average reward on current task: 0.7472007423639299\n",
      "Average reward: 0.3316793784747521\n",
      "Loss: 0.06142611429095268\n",
      "num of epoch 8\n",
      "Given grayscale image, how to return the regular image step by step?\n",
      "Module Sequence: Image Denoising\n"
     ]
    },
    {
     "name": "stderr",
     "output_type": "stream",
     "text": [
      "100%|███████████████████████████████████████████| 20/20 [00:23<00:00,  1.15s/it]\n"
     ]
    },
    {
     "name": "stdout",
     "output_type": "stream",
     "text": [
      "Average reward on current task: 0.7552987575531006\n",
      "Average reward: 0.7552987575531006\n",
      "Loss: 0.011923258192837238\n",
      "Given low-resolutioned noisy blurry grayscale image, how to return the object names in English step by step?\n",
      "Type not match.\n",
      "Averaged reward on current task: -1\n",
      "Average reward: -0.1223506212234497\n",
      "Loss: -0.05006684362888336\n",
      "Given low-resolutioned blurry grayscale image, how to return the caption in English step by step?\n",
      "Module Sequence: Image Captioning\n"
     ]
    },
    {
     "name": "stderr",
     "output_type": "stream",
     "text": [
      " 85%|████████████████████████████████████▌      | 17/20 [00:08<00:01,  2.30it/s]Warning: Empty reference sentence detected; setting raw BERTScores to 0.\n",
      "100%|███████████████████████████████████████████| 20/20 [00:10<00:00,  1.95it/s]\n"
     ]
    },
    {
     "name": "stdout",
     "output_type": "stream",
     "text": [
      "Average reward on current task: 0.7427397590875626\n",
      "Average reward: 0.1660128388802211\n",
      "Loss: 0.04802076146006584\n",
      "Given low-resolutioned noisy grayscale image, how to return the class label in German step by step?\n",
      "Module Sequence: Object Detection\n"
     ]
    },
    {
     "name": "stderr",
     "output_type": "stream",
     "text": [
      "  0%|                                                    | 0/20 [00:00<?, ?it/s]Warning: Empty candidate sentence detected; setting raw BERTscores to 0.\n",
      "  5%|██▏                                         | 1/20 [00:00<00:08,  2.31it/s]Warning: Empty candidate sentence detected; setting raw BERTscores to 0.\n",
      " 10%|████▍                                       | 2/20 [00:00<00:07,  2.28it/s]Warning: Empty candidate sentence detected; setting raw BERTscores to 0.\n",
      " 15%|██████▌                                     | 3/20 [00:01<00:07,  2.30it/s]Warning: Empty candidate sentence detected; setting raw BERTscores to 0.\n",
      " 20%|████████▊                                   | 4/20 [00:02<00:11,  1.35it/s]Warning: Empty candidate sentence detected; setting raw BERTscores to 0.\n",
      " 25%|███████████                                 | 5/20 [00:03<00:09,  1.52it/s]Warning: Empty candidate sentence detected; setting raw BERTscores to 0.\n",
      " 30%|█████████████▏                              | 6/20 [00:03<00:08,  1.63it/s]Warning: Empty candidate sentence detected; setting raw BERTscores to 0.\n",
      " 35%|███████████████▍                            | 7/20 [00:04<00:07,  1.75it/s]Warning: Empty candidate sentence detected; setting raw BERTscores to 0.\n",
      " 40%|█████████████████▌                          | 8/20 [00:04<00:06,  1.92it/s]Warning: Empty candidate sentence detected; setting raw BERTscores to 0.\n",
      " 45%|███████████████████▊                        | 9/20 [00:04<00:05,  1.93it/s]Warning: Empty candidate sentence detected; setting raw BERTscores to 0.\n",
      " 50%|█████████████████████▌                     | 10/20 [00:05<00:04,  2.04it/s]Warning: Empty candidate sentence detected; setting raw BERTscores to 0.\n",
      " 60%|█████████████████████████▊                 | 12/20 [00:06<00:03,  2.18it/s]Warning: Empty candidate sentence detected; setting raw BERTscores to 0.\n",
      " 65%|███████████████████████████▉               | 13/20 [00:06<00:03,  2.19it/s]Warning: Empty candidate sentence detected; setting raw BERTscores to 0.\n",
      " 70%|██████████████████████████████             | 14/20 [00:07<00:02,  2.25it/s]Warning: Empty candidate sentence detected; setting raw BERTscores to 0.\n",
      " 75%|████████████████████████████████▎          | 15/20 [00:07<00:02,  2.05it/s]Warning: Empty candidate sentence detected; setting raw BERTscores to 0.\n",
      " 80%|██████████████████████████████████▍        | 16/20 [00:08<00:02,  1.99it/s]Warning: Empty candidate sentence detected; setting raw BERTscores to 0.\n",
      " 85%|████████████████████████████████████▌      | 17/20 [00:08<00:01,  2.05it/s]Warning: Empty candidate sentence detected; setting raw BERTscores to 0.\n",
      " 90%|██████████████████████████████████████▋    | 18/20 [00:09<00:00,  2.16it/s]Warning: Empty candidate sentence detected; setting raw BERTscores to 0.\n",
      " 95%|████████████████████████████████████████▊  | 19/20 [00:09<00:00,  2.23it/s]Warning: Empty candidate sentence detected; setting raw BERTscores to 0.\n",
      "100%|███████████████████████████████████████████| 20/20 [00:09<00:00,  2.01it/s]\n"
     ]
    },
    {
     "name": "stdout",
     "output_type": "stream",
     "text": [
      "Average reward on current task: 0.2525896982848644\n",
      "Average reward: 0.18765705373138192\n",
      "Loss: 0.13415592908859253\n",
      "Given noisy grayscale image, how to return the object names in English step by step?\n",
      "Module Sequence: Image Deblurring, Object Detection\n"
     ]
    },
    {
     "name": "stderr",
     "output_type": "stream",
     "text": [
      "  5%|██▏                                         | 1/20 [00:01<00:35,  1.88s/it]Warning: Empty candidate sentence detected; setting raw BERTscores to 0.\n",
      " 10%|████▍                                       | 2/20 [00:02<00:24,  1.36s/it]Warning: Empty candidate sentence detected; setting raw BERTscores to 0.\n",
      " 20%|████████▊                                   | 4/20 [00:04<00:17,  1.09s/it]Warning: Empty candidate sentence detected; setting raw BERTscores to 0.\n",
      " 25%|███████████                                 | 5/20 [00:05<00:17,  1.13s/it]Warning: Empty candidate sentence detected; setting raw BERTscores to 0.\n",
      " 30%|█████████████▏                              | 6/20 [00:06<00:15,  1.08s/it]Warning: Empty candidate sentence detected; setting raw BERTscores to 0.\n",
      " 35%|███████████████▍                            | 7/20 [00:07<00:13,  1.05s/it]Warning: Empty candidate sentence detected; setting raw BERTscores to 0.\n",
      " 55%|███████████████████████▋                   | 11/20 [00:12<00:09,  1.05s/it]Warning: Empty candidate sentence detected; setting raw BERTscores to 0.\n",
      " 60%|█████████████████████████▊                 | 12/20 [00:13<00:08,  1.02s/it]Warning: Empty candidate sentence detected; setting raw BERTscores to 0.\n",
      " 65%|███████████████████████████▉               | 13/20 [00:14<00:07,  1.09s/it]Warning: Empty candidate sentence detected; setting raw BERTscores to 0.\n",
      " 70%|██████████████████████████████             | 14/20 [00:15<00:06,  1.04s/it]Warning: Empty candidate sentence detected; setting raw BERTscores to 0.\n",
      " 80%|██████████████████████████████████▍        | 16/20 [00:17<00:03,  1.01it/s]Warning: Empty candidate sentence detected; setting raw BERTscores to 0.\n",
      " 85%|████████████████████████████████████▌      | 17/20 [00:18<00:02,  1.02it/s]Warning: Empty candidate sentence detected; setting raw BERTscores to 0.\n",
      " 90%|██████████████████████████████████████▋    | 18/20 [00:19<00:02,  1.06s/it]Warning: Empty candidate sentence detected; setting raw BERTscores to 0.\n",
      " 95%|████████████████████████████████████████▊  | 19/20 [00:20<00:01,  1.04s/it]Warning: Empty candidate sentence detected; setting raw BERTscores to 0.\n",
      "100%|███████████████████████████████████████████| 20/20 [00:21<00:00,  1.08s/it]\n"
     ]
    },
    {
     "name": "stdout",
     "output_type": "stream",
     "text": [
      "Average reward on current task: 0.4922473135590553\n",
      "Average reward: 0.2485751056969166\n",
      "Loss: 0.25093725323677063\n",
      "Given grayscale image, how to return the caption in English step by step?\n",
      "Module Sequence: Image Captioning\n"
     ]
    },
    {
     "name": "stderr",
     "output_type": "stream",
     "text": [
      " 85%|████████████████████████████████████▌      | 17/20 [00:09<00:01,  1.96it/s]Warning: Empty reference sentence detected; setting raw BERTScores to 0.\n",
      "100%|███████████████████████████████████████████| 20/20 [00:10<00:00,  1.83it/s]\n"
     ]
    },
    {
     "name": "stdout",
     "output_type": "stream",
     "text": [
      "Average reward on current task: 0.7472007423639299\n",
      "Average reward: 0.3316793784747521\n",
      "Loss: 0.06142611429095268\n",
      "num of epoch 9\n",
      "Given grayscale image, how to return the regular image step by step?\n",
      "Module Sequence: Image Denoising\n"
     ]
    },
    {
     "name": "stderr",
     "output_type": "stream",
     "text": [
      "100%|███████████████████████████████████████████| 20/20 [00:22<00:00,  1.11s/it]\n"
     ]
    },
    {
     "name": "stdout",
     "output_type": "stream",
     "text": [
      "Average reward on current task: 0.7552987575531006\n",
      "Average reward: 0.7552987575531006\n",
      "Loss: 0.011923258192837238\n",
      "Given low-resolutioned noisy blurry grayscale image, how to return the object names in English step by step?\n",
      "Type not match.\n",
      "Averaged reward on current task: -1\n",
      "Average reward: -0.1223506212234497\n",
      "Loss: -0.05006684362888336\n",
      "Given low-resolutioned blurry grayscale image, how to return the caption in English step by step?\n",
      "Module Sequence: Image Captioning\n"
     ]
    },
    {
     "name": "stderr",
     "output_type": "stream",
     "text": [
      " 85%|████████████████████████████████████▌      | 17/20 [00:10<00:01,  2.13it/s]Warning: Empty reference sentence detected; setting raw BERTScores to 0.\n",
      "100%|███████████████████████████████████████████| 20/20 [00:11<00:00,  1.73it/s]\n"
     ]
    },
    {
     "name": "stdout",
     "output_type": "stream",
     "text": [
      "Average reward on current task: 0.7427397590875626\n",
      "Average reward: 0.1660128388802211\n",
      "Loss: 0.04802076146006584\n",
      "Given low-resolutioned noisy grayscale image, how to return the class label in German step by step?\n",
      "Module Sequence: Object Detection\n"
     ]
    },
    {
     "name": "stderr",
     "output_type": "stream",
     "text": [
      "  0%|                                                    | 0/20 [00:00<?, ?it/s]Warning: Empty candidate sentence detected; setting raw BERTscores to 0.\n",
      "  5%|██▏                                         | 1/20 [00:00<00:09,  2.09it/s]Warning: Empty candidate sentence detected; setting raw BERTscores to 0.\n",
      " 10%|████▍                                       | 2/20 [00:00<00:08,  2.24it/s]Warning: Empty candidate sentence detected; setting raw BERTscores to 0.\n",
      " 15%|██████▌                                     | 3/20 [00:01<00:07,  2.29it/s]Warning: Empty candidate sentence detected; setting raw BERTscores to 0.\n",
      " 20%|████████▊                                   | 4/20 [00:01<00:07,  2.28it/s]Warning: Empty candidate sentence detected; setting raw BERTscores to 0.\n",
      " 25%|███████████                                 | 5/20 [00:02<00:06,  2.28it/s]Warning: Empty candidate sentence detected; setting raw BERTscores to 0.\n",
      " 30%|█████████████▏                              | 6/20 [00:02<00:06,  2.29it/s]Warning: Empty candidate sentence detected; setting raw BERTscores to 0.\n",
      " 35%|███████████████▍                            | 7/20 [00:03<00:05,  2.33it/s]Warning: Empty candidate sentence detected; setting raw BERTscores to 0.\n",
      " 40%|█████████████████▌                          | 8/20 [00:03<00:05,  2.24it/s]Warning: Empty candidate sentence detected; setting raw BERTscores to 0.\n",
      " 45%|███████████████████▊                        | 9/20 [00:03<00:04,  2.24it/s]Warning: Empty candidate sentence detected; setting raw BERTscores to 0.\n",
      " 50%|█████████████████████▌                     | 10/20 [00:04<00:04,  2.22it/s]Warning: Empty candidate sentence detected; setting raw BERTscores to 0.\n",
      " 60%|█████████████████████████▊                 | 12/20 [00:05<00:03,  2.19it/s]Warning: Empty candidate sentence detected; setting raw BERTscores to 0.\n",
      " 65%|███████████████████████████▉               | 13/20 [00:05<00:03,  2.24it/s]Warning: Empty candidate sentence detected; setting raw BERTscores to 0.\n",
      " 70%|██████████████████████████████             | 14/20 [00:06<00:02,  2.29it/s]Warning: Empty candidate sentence detected; setting raw BERTscores to 0.\n",
      " 75%|████████████████████████████████▎          | 15/20 [00:06<00:02,  2.30it/s]Warning: Empty candidate sentence detected; setting raw BERTscores to 0.\n",
      " 80%|██████████████████████████████████▍        | 16/20 [00:07<00:01,  2.34it/s]Warning: Empty candidate sentence detected; setting raw BERTscores to 0.\n",
      " 85%|████████████████████████████████████▌      | 17/20 [00:07<00:01,  2.35it/s]Warning: Empty candidate sentence detected; setting raw BERTscores to 0.\n",
      " 90%|██████████████████████████████████████▋    | 18/20 [00:08<00:00,  2.12it/s]Warning: Empty candidate sentence detected; setting raw BERTscores to 0.\n",
      " 95%|████████████████████████████████████████▊  | 19/20 [00:08<00:00,  1.97it/s]Warning: Empty candidate sentence detected; setting raw BERTscores to 0.\n",
      "100%|███████████████████████████████████████████| 20/20 [00:09<00:00,  2.19it/s]\n"
     ]
    },
    {
     "name": "stdout",
     "output_type": "stream",
     "text": [
      "Average reward on current task: 0.2525896982848644\n",
      "Average reward: 0.18765705373138192\n",
      "Loss: 0.13415592908859253\n",
      "Given noisy grayscale image, how to return the object names in English step by step?\n",
      "Module Sequence: Image Deblurring, Object Detection\n"
     ]
    },
    {
     "name": "stderr",
     "output_type": "stream",
     "text": [
      "  5%|██▏                                         | 1/20 [00:01<00:19,  1.02s/it]Warning: Empty candidate sentence detected; setting raw BERTscores to 0.\n",
      " 10%|████▍                                       | 2/20 [00:02<00:21,  1.22s/it]Warning: Empty candidate sentence detected; setting raw BERTscores to 0.\n",
      " 20%|████████▊                                   | 4/20 [00:04<00:16,  1.04s/it]Warning: Empty candidate sentence detected; setting raw BERTscores to 0.\n",
      " 25%|███████████                                 | 5/20 [00:05<00:15,  1.00s/it]Warning: Empty candidate sentence detected; setting raw BERTscores to 0.\n",
      " 30%|█████████████▏                              | 6/20 [00:06<00:14,  1.01s/it]Warning: Empty candidate sentence detected; setting raw BERTscores to 0.\n",
      " 35%|███████████████▍                            | 7/20 [00:07<00:14,  1.10s/it]Warning: Empty candidate sentence detected; setting raw BERTscores to 0.\n",
      " 55%|███████████████████████▋                   | 11/20 [00:11<00:09,  1.08s/it]Warning: Empty candidate sentence detected; setting raw BERTscores to 0.\n",
      " 60%|█████████████████████████▊                 | 12/20 [00:12<00:08,  1.04s/it]Warning: Empty candidate sentence detected; setting raw BERTscores to 0.\n",
      " 65%|███████████████████████████▉               | 13/20 [00:13<00:07,  1.01s/it]Warning: Empty candidate sentence detected; setting raw BERTscores to 0.\n",
      " 70%|██████████████████████████████             | 14/20 [00:14<00:05,  1.01it/s]Warning: Empty candidate sentence detected; setting raw BERTscores to 0.\n",
      " 80%|██████████████████████████████████▍        | 16/20 [00:16<00:04,  1.01s/it]Warning: Empty candidate sentence detected; setting raw BERTscores to 0.\n",
      " 85%|████████████████████████████████████▌      | 17/20 [00:17<00:02,  1.02it/s]Warning: Empty candidate sentence detected; setting raw BERTscores to 0.\n",
      " 90%|██████████████████████████████████████▋    | 18/20 [00:18<00:01,  1.03it/s]Warning: Empty candidate sentence detected; setting raw BERTscores to 0.\n",
      " 95%|████████████████████████████████████████▊  | 19/20 [00:19<00:01,  1.05s/it]Warning: Empty candidate sentence detected; setting raw BERTscores to 0.\n",
      "100%|███████████████████████████████████████████| 20/20 [00:20<00:00,  1.04s/it]\n"
     ]
    },
    {
     "name": "stdout",
     "output_type": "stream",
     "text": [
      "Average reward on current task: 0.4922473135590553\n",
      "Average reward: 0.2485751056969166\n",
      "Loss: 0.25093725323677063\n",
      "Given grayscale image, how to return the caption in English step by step?\n",
      "Module Sequence: Image Captioning\n"
     ]
    },
    {
     "name": "stderr",
     "output_type": "stream",
     "text": [
      " 85%|████████████████████████████████████▌      | 17/20 [00:08<00:01,  1.98it/s]Warning: Empty reference sentence detected; setting raw BERTScores to 0.\n",
      "100%|███████████████████████████████████████████| 20/20 [00:09<00:00,  2.07it/s]\n"
     ]
    },
    {
     "name": "stdout",
     "output_type": "stream",
     "text": [
      "Average reward on current task: 0.7472007423639299\n",
      "Average reward: 0.3316793784747521\n",
      "Loss: 0.06142611429095268\n",
      "num of epoch 10\n",
      "Given grayscale image, how to return the regular image step by step?\n",
      "Module Sequence: Image Denoising\n"
     ]
    },
    {
     "name": "stderr",
     "output_type": "stream",
     "text": [
      "100%|███████████████████████████████████████████| 20/20 [00:23<00:00,  1.17s/it]\n"
     ]
    },
    {
     "name": "stdout",
     "output_type": "stream",
     "text": [
      "Average reward on current task: 0.7552987575531006\n",
      "Average reward: 0.7552987575531006\n",
      "Loss: 0.011923258192837238\n",
      "Given low-resolutioned noisy blurry grayscale image, how to return the object names in English step by step?\n",
      "Type not match.\n",
      "Averaged reward on current task: -1\n",
      "Average reward: -0.1223506212234497\n",
      "Loss: -0.05006684362888336\n",
      "Given low-resolutioned blurry grayscale image, how to return the caption in English step by step?\n",
      "Module Sequence: Image Captioning\n"
     ]
    },
    {
     "name": "stderr",
     "output_type": "stream",
     "text": [
      " 85%|████████████████████████████████████▌      | 17/20 [00:08<00:01,  2.25it/s]Warning: Empty reference sentence detected; setting raw BERTScores to 0.\n",
      "100%|███████████████████████████████████████████| 20/20 [00:09<00:00,  2.00it/s]\n"
     ]
    },
    {
     "name": "stdout",
     "output_type": "stream",
     "text": [
      "Average reward on current task: 0.7427397590875626\n",
      "Average reward: 0.1660128388802211\n",
      "Loss: 0.04802076146006584\n",
      "Given low-resolutioned noisy grayscale image, how to return the class label in German step by step?\n",
      "Module Sequence: Object Detection\n"
     ]
    },
    {
     "name": "stderr",
     "output_type": "stream",
     "text": [
      "  0%|                                                    | 0/20 [00:00<?, ?it/s]Warning: Empty candidate sentence detected; setting raw BERTscores to 0.\n",
      "  5%|██▏                                         | 1/20 [00:00<00:08,  2.28it/s]Warning: Empty candidate sentence detected; setting raw BERTscores to 0.\n",
      " 10%|████▍                                       | 2/20 [00:01<00:13,  1.34it/s]Warning: Empty candidate sentence detected; setting raw BERTscores to 0.\n",
      " 15%|██████▌                                     | 3/20 [00:01<00:10,  1.56it/s]Warning: Empty candidate sentence detected; setting raw BERTscores to 0.\n",
      " 20%|████████▊                                   | 4/20 [00:02<00:09,  1.77it/s]Warning: Empty candidate sentence detected; setting raw BERTscores to 0.\n",
      " 25%|███████████                                 | 5/20 [00:02<00:07,  1.95it/s]Warning: Empty candidate sentence detected; setting raw BERTscores to 0.\n",
      " 30%|█████████████▏                              | 6/20 [00:03<00:06,  2.05it/s]Warning: Empty candidate sentence detected; setting raw BERTscores to 0.\n",
      " 35%|███████████████▍                            | 7/20 [00:03<00:06,  2.17it/s]Warning: Empty candidate sentence detected; setting raw BERTscores to 0.\n",
      " 40%|█████████████████▌                          | 8/20 [00:04<00:05,  2.21it/s]Warning: Empty candidate sentence detected; setting raw BERTscores to 0.\n",
      " 45%|███████████████████▊                        | 9/20 [00:04<00:04,  2.27it/s]Warning: Empty candidate sentence detected; setting raw BERTscores to 0.\n",
      " 50%|█████████████████████▌                     | 10/20 [00:05<00:05,  1.72it/s]Warning: Empty candidate sentence detected; setting raw BERTscores to 0.\n",
      " 60%|█████████████████████████▊                 | 12/20 [00:06<00:04,  1.89it/s]Warning: Empty candidate sentence detected; setting raw BERTscores to 0.\n",
      " 65%|███████████████████████████▉               | 13/20 [00:06<00:03,  2.02it/s]Warning: Empty candidate sentence detected; setting raw BERTscores to 0.\n",
      " 70%|██████████████████████████████             | 14/20 [00:07<00:02,  2.11it/s]Warning: Empty candidate sentence detected; setting raw BERTscores to 0.\n",
      " 75%|████████████████████████████████▎          | 15/20 [00:07<00:02,  2.17it/s]Warning: Empty candidate sentence detected; setting raw BERTscores to 0.\n",
      " 80%|██████████████████████████████████▍        | 16/20 [00:08<00:01,  2.24it/s]Warning: Empty candidate sentence detected; setting raw BERTscores to 0.\n",
      " 85%|████████████████████████████████████▌      | 17/20 [00:08<00:01,  2.26it/s]Warning: Empty candidate sentence detected; setting raw BERTscores to 0.\n",
      " 90%|██████████████████████████████████████▋    | 18/20 [00:08<00:00,  2.30it/s]Warning: Empty candidate sentence detected; setting raw BERTscores to 0.\n",
      " 95%|████████████████████████████████████████▊  | 19/20 [00:09<00:00,  2.31it/s]Warning: Empty candidate sentence detected; setting raw BERTscores to 0.\n",
      "100%|███████████████████████████████████████████| 20/20 [00:09<00:00,  2.03it/s]\n"
     ]
    },
    {
     "name": "stdout",
     "output_type": "stream",
     "text": [
      "Average reward on current task: 0.2525896982848644\n",
      "Average reward: 0.18765705373138192\n",
      "Loss: 0.13415592908859253\n",
      "Given noisy grayscale image, how to return the object names in English step by step?\n",
      "Module Sequence: Image Deblurring, Object Detection\n"
     ]
    },
    {
     "name": "stderr",
     "output_type": "stream",
     "text": [
      "  5%|██▏                                         | 1/20 [00:01<00:19,  1.05s/it]Warning: Empty candidate sentence detected; setting raw BERTscores to 0.\n",
      " 10%|████▍                                       | 2/20 [00:02<00:20,  1.13s/it]Warning: Empty candidate sentence detected; setting raw BERTscores to 0.\n",
      " 20%|████████▊                                   | 4/20 [00:04<00:17,  1.07s/it]Warning: Empty candidate sentence detected; setting raw BERTscores to 0.\n",
      " 25%|███████████                                 | 5/20 [00:05<00:15,  1.02s/it]Warning: Empty candidate sentence detected; setting raw BERTscores to 0.\n",
      " 30%|█████████████▏                              | 6/20 [00:06<00:14,  1.01s/it]Warning: Empty candidate sentence detected; setting raw BERTscores to 0.\n",
      " 35%|███████████████▍                            | 7/20 [00:07<00:13,  1.06s/it]Warning: Empty candidate sentence detected; setting raw BERTscores to 0.\n",
      " 55%|███████████████████████▋                   | 11/20 [00:11<00:09,  1.05s/it]Warning: Empty candidate sentence detected; setting raw BERTscores to 0.\n",
      " 60%|█████████████████████████▊                 | 12/20 [00:12<00:08,  1.01s/it]Warning: Empty candidate sentence detected; setting raw BERTscores to 0.\n",
      " 65%|███████████████████████████▉               | 13/20 [00:13<00:06,  1.01it/s]Warning: Empty candidate sentence detected; setting raw BERTscores to 0.\n",
      " 70%|██████████████████████████████             | 14/20 [00:14<00:05,  1.03it/s]Warning: Empty candidate sentence detected; setting raw BERTscores to 0.\n",
      " 80%|██████████████████████████████████▍        | 16/20 [00:16<00:04,  1.03s/it]Warning: Empty candidate sentence detected; setting raw BERTscores to 0.\n",
      " 85%|████████████████████████████████████▌      | 17/20 [00:17<00:03,  1.00s/it]Warning: Empty candidate sentence detected; setting raw BERTscores to 0.\n",
      " 90%|██████████████████████████████████████▋    | 18/20 [00:18<00:01,  1.01it/s]Warning: Empty candidate sentence detected; setting raw BERTscores to 0.\n",
      " 95%|████████████████████████████████████████▊  | 19/20 [00:19<00:00,  1.00it/s]Warning: Empty candidate sentence detected; setting raw BERTscores to 0.\n",
      "100%|███████████████████████████████████████████| 20/20 [00:20<00:00,  1.03s/it]\n"
     ]
    },
    {
     "name": "stdout",
     "output_type": "stream",
     "text": [
      "Average reward on current task: 0.4922473135590553\n",
      "Average reward: 0.2485751056969166\n",
      "Loss: 0.25093725323677063\n",
      "Given grayscale image, how to return the caption in English step by step?\n",
      "Module Sequence: Image Captioning\n"
     ]
    },
    {
     "name": "stderr",
     "output_type": "stream",
     "text": [
      " 85%|████████████████████████████████████▌      | 17/20 [00:08<00:01,  2.01it/s]Warning: Empty reference sentence detected; setting raw BERTScores to 0.\n",
      "100%|███████████████████████████████████████████| 20/20 [00:09<00:00,  2.08it/s]\n"
     ]
    },
    {
     "name": "stdout",
     "output_type": "stream",
     "text": [
      "Average reward on current task: 0.7472007423639299\n",
      "Average reward: 0.3316793784747521\n",
      "Loss: 0.06142611429095268\n",
      "Finished training!\n"
     ]
    }
   ],
   "source": [
    "epochs = args.epochs\n",
    "epsilon = args.epsilon\n",
    "decay_rate = args.decay_rate\n",
    "\n",
    "\n",
    "for e in range(epochs):\n",
    "    baseline = 0\n",
    "    rewards = []\n",
    "    \n",
    "    print('num of epoch ' + str(e+1))\n",
    "    for i, task_description in enumerate(training_tasks):\n",
    "        task_rewards = []\n",
    "        # print(task_description)\n",
    "        optimizer.zero_grad()\n",
    "        generated_module_seq, log_prob = seqGen.generate_sequence([training_tasks[i]],\\\n",
    "                                                                   module_length=10, \\\n",
    "                                                                   beam_size=30, \\\n",
    "                                                                   num_seq=30,\\\n",
    "                                                                   top_k=5,\\\n",
    "                                                                   top_p=0.5,\\\n",
    "                                                                   temperature=0.9,\\\n",
    "                                                                   constraint=[0,100],\\\n",
    "                                                                   num_beam_groups=1)\n",
    "\n",
    "        if random.random() >= epsilon:\n",
    "            action = torch.argmax(torch.stack(log_prob).detach())\n",
    "        else:\n",
    "            action = torch.distributions.Categorical(torch.stack(log_prob).detach()).sample()\n",
    "\n",
    "        # decrease epsilon by the decay rate after each step\n",
    "        epsilon *= decay_rate\n",
    "\n",
    "        module_list = generated_module_seq[action][:-1]\n",
    "\n",
    "        if module_seq_filter(module_list, training_task_idx[i]):\n",
    "\n",
    "            # print(\"Module Sequence: \" + module_list)\n",
    "            seqCombination.construct_module_seq(module_list)\n",
    "\n",
    "\n",
    "            for idx, batch in enumerate(tqdm(training_dataloaders[i])):\n",
    "                inputs = list(batch['input'][0])\n",
    "                seqCombination.construct_module_seq(module_list)\n",
    "                predictions = seqCombination.run_module_seq(inputs)\n",
    "\n",
    "                if 0<=training_task_idx[i]<=14:\n",
    "                    outputs = list(batch['output'][0])\n",
    "                    dist = image_similarity(predictions, outputs, vit, vit_extractor)\n",
    "                    task_rewards.append(dist/100)\n",
    "                elif 15<=training_task_idx[i]<=104 or 107<=task_idx[i]<=184:\n",
    "                    outputs = list(batch['output'][0])\n",
    "                    f1 = np.mean(txt_eval(predictions, outputs, bertscore, device=\"cuda:4\"))\n",
    "                    task_rewards.append(f1)\n",
    "                else:\n",
    "                    clip_score = score = clip_score(predictions, inputs)\n",
    "                    task_rewards.append(clip_score.detach()/100)\n",
    "            ave_task_reward = np.mean(task_rewards)    \n",
    "            # print(\"Average reward on current task: \" + str(ave_task_reward))\n",
    "            rewards.append(ave_task_reward)\n",
    "\n",
    "            seqCombination.close_module_seq()\n",
    "        else:\n",
    "            rewards.append(-1)\n",
    "            \n",
    "        avg_reward = np.mean(rewards)\n",
    "        print(\"Average reward: \" + str(avg_reward))\n",
    "        loss = -log_prob[action] * (avg_reward - baseline)\n",
    "        print(\"Loss: \"+ str(loss.item()))\n",
    "        loss.backward()\n",
    "        optimizer.step()\n",
    "        scheduler.step()\n",
    "        # baseline = avg_reward\n",
    "\n",
    "print(\"Finished training!\")    "
   ]
  },
  {
   "cell_type": "markdown",
   "id": "e8ecd4a9-4734-4e90-b2f7-92e173542d6d",
   "metadata": {},
   "source": [
    "### Test"
   ]
  },
  {
   "cell_type": "code",
   "execution_count": null,
   "id": "c304bf7a-c38d-4c00-bbab-d0c378f0e02f",
   "metadata": {},
   "outputs": [],
   "source": [
    "rewards = []\n",
    "clips = []\n",
    "berts = []\n",
    "similairies = []\n",
    "\n",
    "for i, task_description in enumerate(test_tasks):\n",
    "    task_rewards = []\n",
    "    with torch.no_grad():\n",
    "        generated_module_seq, log_prob = seqGen.generate_sequence([test_tasks[i]],\\\n",
    "                                                                   module_length=10, \\\n",
    "                                                                   beam_size=30, \\\n",
    "                                                                   num_seq=30,\\\n",
    "                                                                   top_k=5,\\\n",
    "                                                                   top_p=0.5,\\\n",
    "                                                                   temperature=0.9,\\\n",
    "                                                                   constraint=[0,100],\\\n",
    "                                                                   num_beam_groups=1)\n",
    "\n",
    "    action = torch.argmax(torch.stack(log_prob).detach())\n",
    "    \n",
    "\n",
    "    module_list = generated_module_seq[action][:-1]\n",
    "    # print(task_description)\n",
    "    # print(\"Module Sequence: \" + module_list)\n",
    "\n",
    "    if module_seq_filter(module_list, test_task_idx[i]):\n",
    "        seqCombination.construct_module_seq(module_list)\n",
    "\n",
    "        for idx, batch in enumerate(tqdm(test_dataloaders[i])):\n",
    "            inputs = list(batch['input'][0])\n",
    "            predictions = seqCombination.run_module_seq(inputs)\n",
    "\n",
    "            if 0<=test_task_idx[i]<=14:\n",
    "                outputs = list(batch['output'][0])\n",
    "                dist = image_similarity(predictions, outputs, vit, vit_extractor)\n",
    "                task_rewards.append(dist/100)\n",
    "            elif 15<=test_task_idx[i]<=104 or 107<=test_task_idx[i]:\n",
    "                outputs = list(batch['output'][0])\n",
    "                f1 = np.mean(txt_eval(predictions, outputs, bertscore))\n",
    "                \n",
    "                task_rewards.append(f1)\n",
    "            else:\n",
    "                score = clip_score(predictions, inputs)\n",
    "                task_rewards.append(score.detach()/100)\n",
    "                \n",
    "        ave_task_reward = np.mean(task_rewards)    \n",
    "        \n",
    "        \n",
    "        seqCombination.close_module_seq()\n",
    "            \n",
    "    else:\n",
    "        ave_task_reward = 0\n",
    "        \n",
    "    if 0<=test_task_idx[i]<=14:\n",
    "        similairies.append(ave_task_reward)\n",
    "    elif 15<=test_task_idx[i]<=104 or 107<=test_task_idx[i]<=184:\n",
    "        berts.append(ave_task_reward)\n",
    "    else:\n",
    "        clips.append(ave_task_reward)\n",
    "\n",
    "    rewards.append(ave_task_reward)     \n",
    "    \n",
    "\n",
    "print(\"Finished testing!\")    "
   ]
  },
  {
   "cell_type": "code",
   "execution_count": 23,
   "id": "d08e8987-a84c-4522-992d-8e1b541c9cdf",
   "metadata": {},
   "outputs": [
    {
     "data": {
      "text/plain": [
       "(0.30801663, 0.36068388568030463, 0.6245344698870623, 0.4134613496065139)"
      ]
     },
     "execution_count": 23,
     "metadata": {},
     "output_type": "execute_result"
    }
   ],
   "source": [
    "np.mean(clips), np.mean(berts), np.mean(similairies), np.mean(rewards)"
   ]
  },
  {
   "cell_type": "code",
   "execution_count": null,
   "id": "89b8a45b-481b-48e5-a565-ea001faf306f",
   "metadata": {},
   "outputs": [],
   "source": []
  }
 ],
 "metadata": {
  "kernelspec": {
   "display_name": "py3",
   "language": "python",
   "name": "base"
  },
  "language_info": {
   "codemirror_mode": {
    "name": "ipython",
    "version": 3
   },
   "file_extension": ".py",
   "mimetype": "text/x-python",
   "name": "python",
   "nbconvert_exporter": "python",
   "pygments_lexer": "ipython3",
   "version": "3.6.4"
  }
 },
 "nbformat": 4,
 "nbformat_minor": 5
}
